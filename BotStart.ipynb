{
 "cells": [
  {
   "cell_type": "code",
   "execution_count": 1,
   "metadata": {
    "collapsed": true
   },
   "outputs": [],
   "source": [
    "from telegram.ext import Updater"
   ]
  },
  {
   "cell_type": "code",
   "execution_count": 2,
   "metadata": {
    "collapsed": true
   },
   "outputs": [],
   "source": [
    "updater = Updater(token='373729866:AAFGlUzSZVBplSB0_Ag7ioxzwI9VK-3_Rdc')"
   ]
  },
  {
   "cell_type": "code",
   "execution_count": 3,
   "metadata": {
    "collapsed": true
   },
   "outputs": [],
   "source": [
    "dispatcher = updater.dispatcher"
   ]
  },
  {
   "cell_type": "code",
   "execution_count": 4,
   "metadata": {
    "collapsed": true
   },
   "outputs": [],
   "source": [
    "import logging"
   ]
  },
  {
   "cell_type": "code",
   "execution_count": 5,
   "metadata": {
    "collapsed": true
   },
   "outputs": [],
   "source": [
    "logging.basicConfig(format='%(asctime)s - %(name)s - %(levelname)s - %(message)s',level=logging.INFO)"
   ]
  },
  {
   "cell_type": "code",
   "execution_count": 6,
   "metadata": {
    "collapsed": true
   },
   "outputs": [],
   "source": [
    "def start(bot, update):\n",
    "    bot.sendMessage(chat_id=update.message.chat_id, text=\"I'm a bot, please talk to me!\")"
   ]
  },
  {
   "cell_type": "code",
   "execution_count": 7,
   "metadata": {
    "collapsed": true
   },
   "outputs": [],
   "source": [
    "from telegram.ext import CommandHandler\n",
    "start_handler = CommandHandler('start', start)\n",
    "dispatcher.add_handler(start_handler)"
   ]
  },
  {
   "cell_type": "code",
   "execution_count": 9,
   "metadata": {
    "collapsed": true
   },
   "outputs": [],
   "source": [
    "def echo(bot, update):\n",
    "    bot.sendMessage(chat_id=update.message.chat_id, text=update.message.text)\n",
    "\n",
    "from telegram.ext import MessageHandler, Filters\n",
    "echo_handler = MessageHandler(Filters.text, echo)\n",
    "dispatcher.add_handler(echo_handler)"
   ]
  },
  {
   "cell_type": "code",
   "execution_count": 11,
   "metadata": {
    "collapsed": true
   },
   "outputs": [],
   "source": [
    "def caps(bot, update, args):\n",
    "    text_caps = ' '.join(args).upper()\n",
    "    bot.sendMessage(chat_id=update.message.chat_id, text=text_caps)\n",
    "\n",
    "caps_handler = CommandHandler('caps', caps, pass_args=True)\n",
    "dispatcher.add_handler(caps_handler)"
   ]
  },
  {
   "cell_type": "code",
   "execution_count": 12,
   "metadata": {
    "collapsed": false
   },
   "outputs": [
    {
     "name": "stderr",
     "output_type": "stream",
     "text": [
      "/opt/ds/local/lib/python2.7/site-packages/urllib3/util/ssl_.py:132: InsecurePlatformWarning: A true SSLContext object is not available. This prevents urllib3 from configuring SSL appropriately and may cause certain SSL connections to fail. You can upgrade to a newer version of Python to solve this. For more information, see https://urllib3.readthedocs.io/en/latest/advanced-usage.html#ssl-warnings\n",
      "  InsecurePlatformWarning\n"
     ]
    }
   ],
   "source": [
    "from telegram import InlineQueryResultArticle, InputTextMessageContent\n",
    "def inline_caps(bot, update):\n",
    "    query = update.inline_query.query\n",
    "    if not query:\n",
    "        return\n",
    "    results = list()\n",
    "    results.append(\n",
    "    InlineQueryResultArticle(\n",
    "        id=query.upper(),\n",
    "        title='Caps',\n",
    "        input_message_content=InputTextMessageContent(query.upper())\n",
    "        )\n",
    "    )\n",
    "    bot.answerInlineQuery(update.inline_query.id, results)\n",
    "\n",
    "from telegram.ext import InlineQueryHandler\n",
    "inline_caps_handler = InlineQueryHandler(inline_caps)\n",
    "dispatcher.add_handler(inline_caps_handler)"
   ]
  },
  {
   "cell_type": "code",
   "execution_count": 10,
   "metadata": {
    "collapsed": false
   },
   "outputs": [],
   "source": [
    "updater.start_polling()"
   ]
  },
  {
   "cell_type": "code",
   "execution_count": null,
   "metadata": {
    "collapsed": true
   },
   "outputs": [],
   "source": []
  }
 ],
 "metadata": {
  "kernelspec": {
   "display_name": "Python 2",
   "language": "python",
   "name": "python2"
  },
  "language_info": {
   "codemirror_mode": {
    "name": "ipython",
    "version": 2
   },
   "file_extension": ".py",
   "mimetype": "text/x-python",
   "name": "python",
   "nbconvert_exporter": "python",
   "pygments_lexer": "ipython2",
   "version": "2.7.6"
  }
 },
 "nbformat": 4,
 "nbformat_minor": 0
}
