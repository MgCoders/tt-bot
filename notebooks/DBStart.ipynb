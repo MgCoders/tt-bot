{
 "cells": [
  {
   "cell_type": "code",
   "execution_count": 1,
   "metadata": {
    "collapsed": false
   },
   "outputs": [],
   "source": [
    "from libs.Repository import Repository\n",
    "repo = Repository('rutinas','gymbot')               "
   ]
  },
  {
   "cell_type": "code",
   "execution_count": null,
   "metadata": {
    "collapsed": false
   },
   "outputs": [],
   "source": [
    "rutina = {\n",
    "      \"nombre\": \"rutina1\",\n",
    "      \"profesor\": \"seba\",\n",
    "      \"descripcion\": \"lala lala\",\n",
    "      \"dia\": [\n",
    "        {\n",
    "          \"nombre\":\"dia 1\",\n",
    "          \"ejercicio\":[\n",
    "            {\n",
    "              \"nombre\":\"Press en Banco\",\n",
    "              \"peso_max\":-1,\n",
    "              \"serie\":[\n",
    "                {\n",
    "                  \"numero\":1,\n",
    "                  \"repeticiones\":5,\n",
    "                  \"porcentaje_peso_max\":65,\n",
    "                  \"carga\":-1\n",
    "                },\n",
    "                {\n",
    "                  \"numero\":2,\n",
    "                  \"repeticiones\":5,\n",
    "                  \"porcentaje_peso_max\":75,\n",
    "                  \"carga\":-1\n",
    "                },\n",
    "                {\n",
    "                  \"numero\":3,\n",
    "                  \"repeticiones\":5,\n",
    "                  \"porcentaje_peso_max\":85,\n",
    "                  \"carga\":-1\n",
    "                }\n",
    "                ]\n",
    "            },\n",
    "            {\n",
    "              \"nombre\":\"Apertura con Mancuerna\",\n",
    "              \"carga\":-1,\n",
    "              \"serie\":[\n",
    "                {\n",
    "                  \"numero\":1,\n",
    "                  \"repeticiones\":15,\n",
    "                  \"carga\":-1\n",
    "                },\n",
    "                {\n",
    "                  \"numero\":2,\n",
    "                  \"repeticiones\":15,\n",
    "                  \"carga\":-1\n",
    "                },\n",
    "                {\n",
    "                  \"numero\":3,\n",
    "                  \"repeticiones\":15,\n",
    "                  \"carga\":-1\n",
    "                },\n",
    "                {\n",
    "                  \"numero\":5,\n",
    "                  \"repeticiones\":15,\n",
    "                  \"carga\":-1\n",
    "                },\n",
    "                {\n",
    "                  \"numero\":5,\n",
    "                  \"repeticiones\":15,\n",
    "                  \"carga\":-1\n",
    "                }\n",
    "                ]\n",
    "            },\n",
    "            {\n",
    "              \"nombre\":\"Remo con Mancuerna\",\n",
    "              \"carga\":-1,\n",
    "              \"serie\":[\n",
    "                {\n",
    "                  \"numero\":1,\n",
    "                  \"repeticiones\":10,\n",
    "                  \"carga\":-1\n",
    "                },\n",
    "                {\n",
    "                  \"numero\":2,\n",
    "                  \"repeticiones\":10,\n",
    "                  \"carga\":-1\n",
    "                },\n",
    "                {\n",
    "                  \"numero\":3,\n",
    "                  \"repeticiones\":10,\n",
    "                  \"carga\":-1\n",
    "                },\n",
    "                {\n",
    "                  \"numero\":5,\n",
    "                  \"repeticiones\":10,\n",
    "                  \"carga\":-1\n",
    "                },\n",
    "                {\n",
    "                  \"numero\":5,\n",
    "                  \"repeticiones\":10,\n",
    "                  \"carga\":-1\n",
    "                }\n",
    "                ]\n",
    "            }\n",
    "            ]\n",
    "        }\n",
    "      ]\n",
    "    }"
   ]
  },
  {
   "cell_type": "code",
   "execution_count": 24,
   "metadata": {
    "collapsed": false
   },
   "outputs": [
    {
     "data": {
      "text/plain": [
       "[{u'_id': ObjectId('58dcfcaeffccfe001090564c'),\n",
       "  u'descripcion': u'lala lala',\n",
       "  u'dia': [{u'ejercicio': [{u'descripcion': u'Press en Banca',\n",
       "      u'imagen': ObjectId('58e791bb0f06780024dfe553'),\n",
       "      u'nombre': u'press_banca',\n",
       "      u'peso_max': -1,\n",
       "      u'serie': [{u'carga': -1,\n",
       "        u'numero': 1,\n",
       "        u'porcentaje_peso_max': 65,\n",
       "        u'repeticiones': 5},\n",
       "       {u'carga': -1,\n",
       "        u'numero': 2,\n",
       "        u'porcentaje_peso_max': 75,\n",
       "        u'repeticiones': 5},\n",
       "       {u'carga': -1,\n",
       "        u'numero': 3,\n",
       "        u'porcentaje_peso_max': 85,\n",
       "        u'repeticiones': 5}]},\n",
       "     {u'carga': -1,\n",
       "      u'descripcion': u'Apertura con Mancuernas',\n",
       "      u'nombre': u'apertura_mancuerna',\n",
       "      u'serie': [{u'carga': -1, u'numero': 1, u'repeticiones': 15},\n",
       "       {u'carga': -1, u'numero': 2, u'repeticiones': 15},\n",
       "       {u'carga': -1, u'numero': 3, u'repeticiones': 15},\n",
       "       {u'carga': -1, u'numero': 5, u'repeticiones': 15},\n",
       "       {u'carga': -1, u'numero': 5, u'repeticiones': 15}]},\n",
       "     {u'carga': -1,\n",
       "      u'descripcion': u'Remo con Mancuernas',\n",
       "      u'nombre': u'remo_mancuerna',\n",
       "      u'serie': [{u'carga': -1, u'numero': 1, u'repeticiones': 10},\n",
       "       {u'carga': -1, u'numero': 2, u'repeticiones': 10},\n",
       "       {u'carga': -1, u'numero': 3, u'repeticiones': 10},\n",
       "       {u'carga': -1, u'numero': 5, u'repeticiones': 10},\n",
       "       {u'carga': -1, u'numero': 5, u'repeticiones': 10}]}],\n",
       "    u'nombre': u'dia 1'}],\n",
       "  u'entrenador': u'59898223226',\n",
       "  u'nombre': u'rutina1',\n",
       "  u'profesor': u'59898223226'}]"
      ]
     },
     "execution_count": 24,
     "metadata": {},
     "output_type": "execute_result"
    }
   ],
   "source": [
    "repo.find({})"
   ]
  },
  {
   "cell_type": "code",
   "execution_count": 3,
   "metadata": {
    "collapsed": true
   },
   "outputs": [],
   "source": [
    "from libs.Repository import Repository\n",
    "users = Repository('usuarios','gymbot')   "
   ]
  },
  {
   "cell_type": "code",
   "execution_count": null,
   "metadata": {
    "collapsed": false
   },
   "outputs": [],
   "source": [
    "users.getCollection().insert_one({u'nombre': u'Sebastián',\n",
    "  u'numero': u'59898223226',\n",
    "  u'entrenador': u'59898223226'})"
   ]
  },
  {
   "cell_type": "code",
   "execution_count": 25,
   "metadata": {
    "collapsed": false
   },
   "outputs": [
    {
     "data": {
      "text/plain": [
       "[{u'_id': ObjectId('58dd3973ffccfe00118269b2'),\n",
       "  u'chat_id': 3416578,\n",
       "  u'entrenador': u'59898223226',\n",
       "  u'nombre': u'Ra\\xfal',\n",
       "  u'numero': u'59899725258',\n",
       "  u'profesor': u'59898223226',\n",
       "  u'sesiones': []},\n",
       " {u'_id': ObjectId('58e5348c0f0678001001de3e'),\n",
       "  u'entrenador': u'59898223226',\n",
       "  u'nombre': u'Sebastian',\n",
       "  u'numero': u'59898223226'}]"
      ]
     },
     "execution_count": 25,
     "metadata": {},
     "output_type": "execute_result"
    }
   ],
   "source": [
    "users.find({})"
   ]
  },
  {
   "cell_type": "code",
   "execution_count": 26,
   "metadata": {
    "collapsed": false
   },
   "outputs": [
    {
     "data": {
      "text/plain": [
       "<pymongo.results.UpdateResult at 0x7f5ccafed230>"
      ]
     },
     "execution_count": 26,
     "metadata": {},
     "output_type": "execute_result"
    }
   ],
   "source": [
    "users.update_one('58dd3973ffccfe00118269b2','pesos_maximos',[])"
   ]
  },
  {
   "cell_type": "code",
   "execution_count": null,
   "metadata": {
    "collapsed": false
   },
   "outputs": [],
   "source": [
    "import urllib\n",
    "urllib.urlretrieve(\"http://static1.rutinasentrenamiento.com/wp-content/uploads/Bench-press.png\", \"bench-press.png\")"
   ]
  },
  {
   "cell_type": "code",
   "execution_count": 4,
   "metadata": {
    "collapsed": false
   },
   "outputs": [],
   "source": [
    "image=open(\"bench-press.png\",\"rb\")\n",
    "data=image.read()\n",
    "image_id=repo.getFs().put(data,filename=\"bench-press.png\")"
   ]
  },
  {
   "cell_type": "code",
   "execution_count": 5,
   "metadata": {
    "collapsed": false
   },
   "outputs": [
    {
     "data": {
      "text/plain": [
       "ObjectId('58e791bb0f06780024dfe553')"
      ]
     },
     "execution_count": 5,
     "metadata": {},
     "output_type": "execute_result"
    }
   ],
   "source": [
    "image_id"
   ]
  },
  {
   "cell_type": "code",
   "execution_count": 23,
   "metadata": {
    "collapsed": false
   },
   "outputs": [
    {
     "data": {
      "text/plain": [
       "<pymongo.results.UpdateResult at 0x7f5ccafed730>"
      ]
     },
     "execution_count": 23,
     "metadata": {},
     "output_type": "execute_result"
    }
   ],
   "source": [
    "repo.update_one('58dcfcaeffccfe001090564c','dia.0.ejercicio.2.descripcion','Remo con Mancuernas')"
   ]
  },
  {
   "cell_type": "code",
   "execution_count": null,
   "metadata": {
    "collapsed": true
   },
   "outputs": [],
   "source": []
  }
 ],
 "metadata": {
  "kernelspec": {
   "display_name": "Python 2",
   "language": "python",
   "name": "python2"
  },
  "language_info": {
   "codemirror_mode": {
    "name": "ipython",
    "version": 2
   },
   "file_extension": ".py",
   "mimetype": "text/x-python",
   "name": "python",
   "nbconvert_exporter": "python",
   "pygments_lexer": "ipython2",
   "version": "2.7.6"
  }
 },
 "nbformat": 4,
 "nbformat_minor": 0
}
