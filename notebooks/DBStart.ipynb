{
 "cells": [
  {
   "cell_type": "code",
   "execution_count": 1,
   "metadata": {
    "collapsed": false
   },
   "outputs": [],
   "source": [
    "from libs.Repository import Repository\n",
    "repo = Repository('rutinas','gymbot')               "
   ]
  },
  {
   "cell_type": "code",
   "execution_count": null,
   "metadata": {
    "collapsed": false
   },
   "outputs": [],
   "source": [
    "rutina = {\n",
    "      \"nombre\": \"rutina1\",\n",
    "      \"profesor\": \"seba\",\n",
    "      \"descripcion\": \"lala lala\",\n",
    "      \"dia\": [\n",
    "        {\n",
    "          \"nombre\":\"dia 1\",\n",
    "          \"ejercicio\":[\n",
    "            {\n",
    "              \"nombre\":\"Press en Banco\",\n",
    "              \"peso_max\":-1,\n",
    "              \"serie\":[\n",
    "                {\n",
    "                  \"numero\":1,\n",
    "                  \"repeticiones\":5,\n",
    "                  \"porcentaje_peso_max\":65,\n",
    "                  \"carga\":-1\n",
    "                },\n",
    "                {\n",
    "                  \"numero\":2,\n",
    "                  \"repeticiones\":5,\n",
    "                  \"porcentaje_peso_max\":75,\n",
    "                  \"carga\":-1\n",
    "                },\n",
    "                {\n",
    "                  \"numero\":3,\n",
    "                  \"repeticiones\":5,\n",
    "                  \"porcentaje_peso_max\":85,\n",
    "                  \"carga\":-1\n",
    "                }\n",
    "                ]\n",
    "            },\n",
    "            {\n",
    "              \"nombre\":\"Apertura con Mancuerna\",\n",
    "              \"carga\":-1,\n",
    "              \"serie\":[\n",
    "                {\n",
    "                  \"numero\":1,\n",
    "                  \"repeticiones\":15,\n",
    "                  \"carga\":-1\n",
    "                },\n",
    "                {\n",
    "                  \"numero\":2,\n",
    "                  \"repeticiones\":15,\n",
    "                  \"carga\":-1\n",
    "                },\n",
    "                {\n",
    "                  \"numero\":3,\n",
    "                  \"repeticiones\":15,\n",
    "                  \"carga\":-1\n",
    "                },\n",
    "                {\n",
    "                  \"numero\":5,\n",
    "                  \"repeticiones\":15,\n",
    "                  \"carga\":-1\n",
    "                },\n",
    "                {\n",
    "                  \"numero\":5,\n",
    "                  \"repeticiones\":15,\n",
    "                  \"carga\":-1\n",
    "                }\n",
    "                ]\n",
    "            },\n",
    "            {\n",
    "              \"nombre\":\"Remo con Mancuerna\",\n",
    "              \"carga\":-1,\n",
    "              \"serie\":[\n",
    "                {\n",
    "                  \"numero\":1,\n",
    "                  \"repeticiones\":10,\n",
    "                  \"carga\":-1\n",
    "                },\n",
    "                {\n",
    "                  \"numero\":2,\n",
    "                  \"repeticiones\":10,\n",
    "                  \"carga\":-1\n",
    "                },\n",
    "                {\n",
    "                  \"numero\":3,\n",
    "                  \"repeticiones\":10,\n",
    "                  \"carga\":-1\n",
    "                },\n",
    "                {\n",
    "                  \"numero\":5,\n",
    "                  \"repeticiones\":10,\n",
    "                  \"carga\":-1\n",
    "                },\n",
    "                {\n",
    "                  \"numero\":5,\n",
    "                  \"repeticiones\":10,\n",
    "                  \"carga\":-1\n",
    "                }\n",
    "                ]\n",
    "            }\n",
    "            ]\n",
    "        }\n",
    "      ]\n",
    "    }\n",
    "{\n",
    "      \"nombre\": \"rutina1\",\n",
    "      \"profesor\": \"seba\",\n",
    "      \"descripcion\": \"lala lala\",\n",
    "      \"dia\": [\n",
    "        {\n",
    "          \"nombre\":\"dia 1\",\n",
    "          \"ejercicio\":[\n",
    "            {\n",
    "              \"nombre\":\"Press en Banco\",\n",
    "              \"peso_max\":-1,\n",
    "              \"serie\":[\n",
    "                {\n",
    "                  \"numero\":1,\n",
    "                  \"repeticiones\":5,\n",
    "                  \"porcentaje_peso_max\":65,\n",
    "                  \"carga\":-1\n",
    "                },\n",
    "                {\n",
    "                  \"numero\":2,\n",
    "                  \"repeticiones\":5,\n",
    "                  \"porcentaje_peso_max\":75,\n",
    "                  \"carga\":-1\n",
    "                },\n",
    "                {\n",
    "                  \"numero\":3,\n",
    "                  \"repeticiones\":5,\n",
    "                  \"porcentaje_peso_max\":85,\n",
    "                  \"carga\":-1\n",
    "                }\n",
    "                ]\n",
    "            },\n",
    "            {\n",
    "              \"nombre\":\"Apertura con Mancuerna\",\n",
    "              \"carga\":-1,\n",
    "              \"serie\":[\n",
    "                {\n",
    "                  \"numero\":1,\n",
    "                  \"repeticiones\":15,\n",
    "                  \"carga\":-1\n",
    "                },\n",
    "                {\n",
    "                  \"numero\":2,\n",
    "                  \"repeticiones\":15,\n",
    "                  \"carga\":-1\n",
    "                },\n",
    "                {\n",
    "                  \"numero\":3,\n",
    "                  \"repeticiones\":15,\n",
    "                  \"carga\":-1\n",
    "                },\n",
    "                {\n",
    "                  \"numero\":5,\n",
    "                  \"repeticiones\":15,\n",
    "                  \"carga\":-1\n",
    "                },\n",
    "                {\n",
    "                  \"numero\":5,\n",
    "                  \"repeticiones\":15,\n",
    "                  \"carga\":-1\n",
    "                }\n",
    "                ]\n",
    "            },\n",
    "            {\n",
    "              \"nombre\":\"Remo con Mancuerna\",\n",
    "              \"carga\":-1,\n",
    "              \"serie\":[\n",
    "                {\n",
    "                  \"numero\":1,\n",
    "                  \"repeticiones\":10,\n",
    "                  \"carga\":-1\n",
    "                },\n",
    "                {\n",
    "                  \"numero\":2,\n",
    "                  \"repeticiones\":10,\n",
    "                  \"carga\":-1\n",
    "                },\n",
    "                {\n",
    "                  \"numero\":3,\n",
    "                  \"repeticiones\":10,\n",
    "                  \"carga\":-1\n",
    "                },\n",
    "                {\n",
    "                  \"numero\":5,\n",
    "                  \"repeticiones\":10,\n",
    "                  \"carga\":-1\n",
    "                },\n",
    "                {\n",
    "                  \"numero\":5,\n",
    "                  \"repeticiones\":10,\n",
    "                  \"carga\":-1\n",
    "                }\n",
    "                ]\n",
    "            }\n",
    "            ]\n",
    "        }\n",
    "      ]\n",
    "    }\n",
    "\n"
   ]
  },
  {
   "cell_type": "code",
   "execution_count": null,
   "metadata": {
    "collapsed": false
   },
   "outputs": [],
   "source": [
    "repo.getDataCollection().insert_one(rutina)"
   ]
  },
  {
   "cell_type": "code",
   "execution_count": null,
   "metadata": {
    "collapsed": false
   },
   "outputs": [],
   "source": [
    "from pprint import pprint\n",
    "print pprint(list(users.getCollection().find())[0])"
   ]
  },
  {
   "cell_type": "code",
   "execution_count": 3,
   "metadata": {
    "collapsed": true
   },
   "outputs": [],
   "source": [
    "from libs.Repository import Repository\n",
    "users = Repository('usuarios','gymbot')   "
   ]
  },
  {
   "cell_type": "code",
   "execution_count": 4,
   "metadata": {
    "collapsed": false
   },
   "outputs": [
    {
     "name": "stdout",
     "output_type": "stream",
     "text": [
      "{u'_id': ObjectId('58e40f4e44087300101bde7f'),\n",
      " u'nombre': u'raul',\n",
      " u'numero': u'+59899725258'}\n",
      "None\n"
     ]
    }
   ],
   "source": [
    "from pprint import pprint\n",
    "print pprint(list(users.getCollection().find())[0])"
   ]
  },
  {
   "cell_type": "code",
   "execution_count": null,
   "metadata": {
    "collapsed": false
   },
   "outputs": [],
   "source": [
    "users.getDataCollection().insert_one({\"nombre\":\"raul\",\"numero\":\"+59899725258\"})"
   ]
  },
  {
   "cell_type": "code",
   "execution_count": null,
   "metadata": {
    "collapsed": true
   },
   "outputs": [],
   "source": []
  }
 ],
 "metadata": {
  "kernelspec": {
   "display_name": "Python 2",
   "language": "python",
   "name": "python2"
  },
  "language_info": {
   "codemirror_mode": {
    "name": "ipython",
    "version": 2
   },
   "file_extension": ".py",
   "mimetype": "text/x-python",
   "name": "python",
   "nbconvert_exporter": "python",
   "pygments_lexer": "ipython2",
   "version": "2.7.6"
  }
 },
 "nbformat": 4,
 "nbformat_minor": 0
}
