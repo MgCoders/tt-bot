{
 "cells": [
  {
   "cell_type": "code",
   "execution_count": 1,
   "metadata": {
    "collapsed": false
   },
   "outputs": [],
   "source": [
    "from libs.Repository import Repository\n",
    "repo = Repository('rutinas','gymbot')               "
   ]
  },
  {
   "cell_type": "code",
   "execution_count": null,
   "metadata": {
    "collapsed": false
   },
   "outputs": [],
   "source": [
    "rutina = {\n",
    "      \"nombre\": \"rutina1\",\n",
    "      \"profesor\": \"seba\",\n",
    "      \"descripcion\": \"lala lala\",\n",
    "      \"dia\": [\n",
    "        {\n",
    "          \"nombre\":\"dia 1\",\n",
    "          \"ejercicio\":[\n",
    "            {\n",
    "              \"nombre\":\"Press en Banco\",\n",
    "              \"peso_max\":-1,\n",
    "              \"serie\":[\n",
    "                {\n",
    "                  \"numero\":1,\n",
    "                  \"repeticiones\":5,\n",
    "                  \"porcentaje_peso_max\":65,\n",
    "                  \"carga\":-1\n",
    "                },\n",
    "                {\n",
    "                  \"numero\":2,\n",
    "                  \"repeticiones\":5,\n",
    "                  \"porcentaje_peso_max\":75,\n",
    "                  \"carga\":-1\n",
    "                },\n",
    "                {\n",
    "                  \"numero\":3,\n",
    "                  \"repeticiones\":5,\n",
    "                  \"porcentaje_peso_max\":85,\n",
    "                  \"carga\":-1\n",
    "                }\n",
    "                ]\n",
    "            },\n",
    "            {\n",
    "              \"nombre\":\"Apertura con Mancuerna\",\n",
    "              \"carga\":-1,\n",
    "              \"serie\":[\n",
    "                {\n",
    "                  \"numero\":1,\n",
    "                  \"repeticiones\":15,\n",
    "                  \"carga\":-1\n",
    "                },\n",
    "                {\n",
    "                  \"numero\":2,\n",
    "                  \"repeticiones\":15,\n",
    "                  \"carga\":-1\n",
    "                },\n",
    "                {\n",
    "                  \"numero\":3,\n",
    "                  \"repeticiones\":15,\n",
    "                  \"carga\":-1\n",
    "                },\n",
    "                {\n",
    "                  \"numero\":5,\n",
    "                  \"repeticiones\":15,\n",
    "                  \"carga\":-1\n",
    "                },\n",
    "                {\n",
    "                  \"numero\":5,\n",
    "                  \"repeticiones\":15,\n",
    "                  \"carga\":-1\n",
    "                }\n",
    "                ]\n",
    "            },\n",
    "            {\n",
    "              \"nombre\":\"Remo con Mancuerna\",\n",
    "              \"carga\":-1,\n",
    "              \"serie\":[\n",
    "                {\n",
    "                  \"numero\":1,\n",
    "                  \"repeticiones\":10,\n",
    "                  \"carga\":-1\n",
    "                },\n",
    "                {\n",
    "                  \"numero\":2,\n",
    "                  \"repeticiones\":10,\n",
    "                  \"carga\":-1\n",
    "                },\n",
    "                {\n",
    "                  \"numero\":3,\n",
    "                  \"repeticiones\":10,\n",
    "                  \"carga\":-1\n",
    "                },\n",
    "                {\n",
    "                  \"numero\":5,\n",
    "                  \"repeticiones\":10,\n",
    "                  \"carga\":-1\n",
    "                },\n",
    "                {\n",
    "                  \"numero\":5,\n",
    "                  \"repeticiones\":10,\n",
    "                  \"carga\":-1\n",
    "                }\n",
    "                ]\n",
    "            }\n",
    "            ]\n",
    "        }\n",
    "      ]\n",
    "    }"
   ]
  },
  {
   "cell_type": "code",
   "execution_count": 5,
   "metadata": {
    "collapsed": false
   },
   "outputs": [
    {
     "data": {
      "text/plain": [
       "[{u'_id': ObjectId('58dcfcaeffccfe001090564c'),\n",
       "  u'descripcion': u'lala lala',\n",
       "  u'dia': [{u'ejercicio': [{u'nombre': u'Press en Banco',\n",
       "      u'peso_max': -1,\n",
       "      u'serie': [{u'carga': -1,\n",
       "        u'numero': 1,\n",
       "        u'porcentaje_peso_max': 65,\n",
       "        u'repeticiones': 5},\n",
       "       {u'carga': -1,\n",
       "        u'numero': 2,\n",
       "        u'porcentaje_peso_max': 75,\n",
       "        u'repeticiones': 5},\n",
       "       {u'carga': -1,\n",
       "        u'numero': 3,\n",
       "        u'porcentaje_peso_max': 85,\n",
       "        u'repeticiones': 5}]},\n",
       "     {u'carga': -1,\n",
       "      u'nombre': u'Apertura con Mancuerna',\n",
       "      u'serie': [{u'carga': -1, u'numero': 1, u'repeticiones': 15},\n",
       "       {u'carga': -1, u'numero': 2, u'repeticiones': 15},\n",
       "       {u'carga': -1, u'numero': 3, u'repeticiones': 15},\n",
       "       {u'carga': -1, u'numero': 5, u'repeticiones': 15},\n",
       "       {u'carga': -1, u'numero': 5, u'repeticiones': 15}]},\n",
       "     {u'carga': -1,\n",
       "      u'nombre': u'Remo con Mancuerna',\n",
       "      u'serie': [{u'carga': -1, u'numero': 1, u'repeticiones': 10},\n",
       "       {u'carga': -1, u'numero': 2, u'repeticiones': 10},\n",
       "       {u'carga': -1, u'numero': 3, u'repeticiones': 10},\n",
       "       {u'carga': -1, u'numero': 5, u'repeticiones': 10},\n",
       "       {u'carga': -1, u'numero': 5, u'repeticiones': 10}]}],\n",
       "    u'nombre': u'dia 1'}],\n",
       "  u'nombre': u'rutina1',\n",
       "  u'profesor': u'59898223226'}]"
      ]
     },
     "execution_count": 5,
     "metadata": {},
     "output_type": "execute_result"
    }
   ],
   "source": [
    "repo.find({})"
   ]
  },
  {
   "cell_type": "code",
   "execution_count": 12,
   "metadata": {
    "collapsed": false
   },
   "outputs": [
    {
     "data": {
      "text/plain": [
       "<pymongo.results.UpdateResult at 0x7f82e0cb2c80>"
      ]
     },
     "execution_count": 12,
     "metadata": {},
     "output_type": "execute_result"
    }
   ],
   "source": [
    "repo.update_one('58dcfcaeffccfe001090564c','entrenador','59898223226')"
   ]
  },
  {
   "cell_type": "code",
   "execution_count": 2,
   "metadata": {
    "collapsed": true
   },
   "outputs": [],
   "source": [
    "from libs.Repository import Repository\n",
    "users = Repository('usuarios','gymbot')   "
   ]
  },
  {
   "cell_type": "code",
   "execution_count": 3,
   "metadata": {
    "collapsed": false
   },
   "outputs": [
    {
     "data": {
      "text/plain": [
       "<pymongo.results.InsertOneResult at 0x7f9ba530b870>"
      ]
     },
     "execution_count": 3,
     "metadata": {},
     "output_type": "execute_result"
    }
   ],
   "source": [
    "users.getCollection().insert_one({u'nombre': u'Sebastián',\n",
    "  u'numero': u'59898223226',\n",
    "  u'entrenador': u'59898223226'})"
   ]
  },
  {
   "cell_type": "code",
   "execution_count": 6,
   "metadata": {
    "collapsed": false
   },
   "outputs": [
    {
     "data": {
      "text/plain": [
       "[{u'_id': ObjectId('58dd3973ffccfe00118269b2'),\n",
       "  u'chat_id': 3416578,\n",
       "  u'entrenador': u'59898223226',\n",
       "  u'nombre': u'raul',\n",
       "  u'numero': u'59899725258',\n",
       "  u'profesor': u'59898223226'},\n",
       " {u'_id': ObjectId('58e5348c0f0678001001de3e'),\n",
       "  u'entrenador': u'59898223226',\n",
       "  u'nombre': u'Sebastian',\n",
       "  u'numero': u'59898223226'}]"
      ]
     },
     "execution_count": 6,
     "metadata": {},
     "output_type": "execute_result"
    }
   ],
   "source": [
    "users.find({})"
   ]
  },
  {
   "cell_type": "code",
   "execution_count": 5,
   "metadata": {
    "collapsed": false
   },
   "outputs": [
    {
     "data": {
      "text/plain": [
       "<pymongo.results.UpdateResult at 0x7f9ba530b960>"
      ]
     },
     "execution_count": 5,
     "metadata": {},
     "output_type": "execute_result"
    }
   ],
   "source": [
    "users.update_one('58e5348c0f0678001001de3e','nombre','Sebastian')"
   ]
  },
  {
   "cell_type": "code",
   "execution_count": null,
   "metadata": {
    "collapsed": true
   },
   "outputs": [],
   "source": []
  }
 ],
 "metadata": {
  "kernelspec": {
   "display_name": "Python 2",
   "language": "python",
   "name": "python2"
  },
  "language_info": {
   "codemirror_mode": {
    "name": "ipython",
    "version": 2
   },
   "file_extension": ".py",
   "mimetype": "text/x-python",
   "name": "python",
   "nbconvert_exporter": "python",
   "pygments_lexer": "ipython2",
   "version": "2.7.6"
  }
 },
 "nbformat": 4,
 "nbformat_minor": 0
}
